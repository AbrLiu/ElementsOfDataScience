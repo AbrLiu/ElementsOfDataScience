{
 "cells": [
  {
   "cell_type": "markdown",
   "metadata": {},
   "source": [
    "# Loops and files\n",
    "\n",
    "Elements of Data Science\n",
    "\n",
    "by [Allen Downey](https://allendowney.com)\n",
    "\n",
    "[MIT License](https://opensource.org/licenses/MIT)"
   ]
  },
  {
   "cell_type": "markdown",
   "metadata": {},
   "source": [
    "## Loops\n",
    "\n",
    "One of the most important elements of computation is repetition, and the most common way to express repetition is a `for` loop.\n",
    "\n",
    "As a simple example, suppose we want to display the elements of a tuple.  Here's a tuple of three integers:"
   ]
  },
  {
   "cell_type": "code",
   "execution_count": 1,
   "metadata": {},
   "outputs": [],
   "source": [
    "t = 1, 2, 3"
   ]
  },
  {
   "cell_type": "markdown",
   "metadata": {},
   "source": [
    "And here's a `for` loop that prints the elements."
   ]
  },
  {
   "cell_type": "code",
   "execution_count": 2,
   "metadata": {},
   "outputs": [
    {
     "name": "stdout",
     "output_type": "stream",
     "text": [
      "1\n",
      "2\n",
      "3\n"
     ]
    }
   ],
   "source": [
    "for x in t:\n",
    "    print(x)"
   ]
  },
  {
   "cell_type": "markdown",
   "metadata": {},
   "source": [
    "The first line of the loop is a \"header\" that specifies the tuple, `t`, and a variable name `x`.  The tuple already exists, but `x` does not; the loop will create it.  The header has to end with a colon, `:`.\n",
    "\n",
    "Inside the loop is a `print` statement, which displays the value of `x`.\n",
    "\n",
    "So here's what happens:\n",
    "\n",
    "1. When the loop starts, it gets the first element of `t`, which is `1`, and assigns it to `x`.  It executes the `print` statement, which displays the value `1`.\n",
    "\n",
    "2. Then it gets the second element of `t`, which is `2`, and displays it.\n",
    "\n",
    "3. Then it gets the third element of `t`, which is `3`, and displays it.\n",
    "\n",
    "After printing the last element of the tuple, the loop ends.\n",
    "\n",
    "We can also loop through the letters in a string:"
   ]
  },
  {
   "cell_type": "code",
   "execution_count": 3,
   "metadata": {},
   "outputs": [
    {
     "name": "stdout",
     "output_type": "stream",
     "text": [
      "D\n",
      "a\n",
      "t\n",
      "a\n"
     ]
    }
   ],
   "source": [
    "word = 'Data'\n",
    "\n",
    "for letter in word:\n",
    "    print(letter)"
   ]
  },
  {
   "cell_type": "markdown",
   "metadata": {},
   "source": [
    "When the loop begins, `word` already exists, but `letter` does not.  Again, the loop creates `letter` and assign values to it.\n",
    "\n",
    "The variable created by the loop is called the \"loop variable\".  You can give it any name you like; in this example, I chose `letter` to remind me what kind of value it contains.\n",
    "\n",
    "After the loop ends, the loop variable contains the last value."
   ]
  },
  {
   "cell_type": "code",
   "execution_count": 4,
   "metadata": {},
   "outputs": [
    {
     "data": {
      "text/plain": [
       "'a'"
      ]
     },
     "execution_count": 4,
     "metadata": {},
     "output_type": "execute_result"
    }
   ],
   "source": [
    "letter"
   ]
  },
  {
   "cell_type": "markdown",
   "metadata": {},
   "source": [
    "**Exercise:** Create a list with four elements, of any type, and write a `for` loop that prints the elements.  Call the list `sequence` and the loop variable `element`."
   ]
  },
  {
   "cell_type": "code",
   "execution_count": 5,
   "metadata": {},
   "outputs": [
    {
     "name": "stdout",
     "output_type": "stream",
     "text": [
      "1\n",
      "two\n",
      "3.14159\n",
      "(4, 5)\n"
     ]
    }
   ],
   "source": [
    "# Solution\n",
    "\n",
    "sequence = [1, 'two', 3.14159, (4,5)]\n",
    "\n",
    "for element in sequence:\n",
    "    print(element)"
   ]
  },
  {
   "cell_type": "markdown",
   "metadata": {},
   "source": [
    "You might wonder why I didn't call the list `list`.  I avoided it because Python has a function named `list` that makes new lists:"
   ]
  },
  {
   "cell_type": "code",
   "execution_count": 6,
   "metadata": {},
   "outputs": [
    {
     "data": {
      "text/plain": [
       "['s', 't', 'r', 'i', 'n', 'g']"
      ]
     },
     "execution_count": 6,
     "metadata": {},
     "output_type": "execute_result"
    }
   ],
   "source": [
    "list('string')"
   ]
  },
  {
   "cell_type": "markdown",
   "metadata": {},
   "source": [
    "If you create a variable named `list`, you can't use the function any more."
   ]
  },
  {
   "cell_type": "code",
   "execution_count": 7,
   "metadata": {},
   "outputs": [
    {
     "ename": "TypeError",
     "evalue": "'list' object is not callable",
     "output_type": "error",
     "traceback": [
      "\u001b[0;31m---------------------------------------------------------------------------\u001b[0m",
      "\u001b[0;31mTypeError\u001b[0m                                 Traceback (most recent call last)",
      "\u001b[0;32m<ipython-input-7-b6b9844f45c2>\u001b[0m in \u001b[0;36m<module>\u001b[0;34m\u001b[0m\n\u001b[1;32m      1\u001b[0m \u001b[0mlist\u001b[0m \u001b[0;34m=\u001b[0m \u001b[0;34m[\u001b[0m\u001b[0;36m1\u001b[0m\u001b[0;34m,\u001b[0m \u001b[0;36m2\u001b[0m\u001b[0;34m,\u001b[0m \u001b[0;36m3\u001b[0m\u001b[0;34m]\u001b[0m\u001b[0;34m\u001b[0m\u001b[0;34m\u001b[0m\u001b[0m\n\u001b[0;32m----> 2\u001b[0;31m \u001b[0mlist\u001b[0m\u001b[0;34m(\u001b[0m\u001b[0;34m'string'\u001b[0m\u001b[0;34m)\u001b[0m\u001b[0;34m\u001b[0m\u001b[0;34m\u001b[0m\u001b[0m\n\u001b[0m",
      "\u001b[0;31mTypeError\u001b[0m: 'list' object is not callable"
     ]
    }
   ],
   "source": [
    "list = [1, 2, 3]\n",
    "list('string')"
   ]
  },
  {
   "cell_type": "markdown",
   "metadata": {},
   "source": [
    "In this example, Python tries to use your list as a function, which doesn't work because you can't \"call\" a list like a function.\n",
    "\n",
    "**Exercise:** After running that cell, we won't be able to use the `list` function until we restart the Python interpreter.  So this is a good time to find out how.\n",
    "\n",
    "1. \"Comment out\" the previous cell; that is, add the comment symbol, `#`, to the beginning of the first line so it will be treated as a comment.\n",
    "\n",
    "```\n",
    "# list = [1, 2, 3]\n",
    "list('string')\n",
    "```\n",
    "\n",
    "2. Now restart the Python interpreter.  If you are running this notebook on Colab, click the `Runtime` menu and select `Restart all runtimes...`; if you are running in another Jupyter environment, click on the `Kernel` menu and select `Restart`.\n",
    "\n",
    "When you restart the interpreter, your variables disappear, so you should start again at the beginning of the notebook and run the cells again, in order."
   ]
  },
  {
   "cell_type": "markdown",
   "metadata": {},
   "source": [
    "## Looping and counting\n",
    "\n",
    "*War and Peace* is a famously long book; let's see how long it is.  To do that, we need to\n",
    "\n",
    "1. Loop through a book and \n",
    "\n",
    "2. Count.\n",
    "\n",
    "We'll start with counting.\n",
    "\n",
    "We've already seen that you can create a variable and give it a value, like this:"
   ]
  },
  {
   "cell_type": "code",
   "execution_count": 8,
   "metadata": {},
   "outputs": [
    {
     "data": {
      "text/plain": [
       "0"
      ]
     },
     "execution_count": 8,
     "metadata": {},
     "output_type": "execute_result"
    }
   ],
   "source": [
    "count = 0\n",
    "count"
   ]
  },
  {
   "cell_type": "markdown",
   "metadata": {},
   "source": [
    "If you assign a different value to the same variable, the new value replaces the old one."
   ]
  },
  {
   "cell_type": "code",
   "execution_count": 9,
   "metadata": {},
   "outputs": [
    {
     "data": {
      "text/plain": [
       "1"
      ]
     },
     "execution_count": 9,
     "metadata": {},
     "output_type": "execute_result"
    }
   ],
   "source": [
    "count = 1\n",
    "count"
   ]
  },
  {
   "cell_type": "markdown",
   "metadata": {},
   "source": [
    "You can increase the value of a variable by reading the old value, adding `1`, and assigning the result back to the original variable."
   ]
  },
  {
   "cell_type": "code",
   "execution_count": 10,
   "metadata": {},
   "outputs": [
    {
     "data": {
      "text/plain": [
       "2"
      ]
     },
     "execution_count": 10,
     "metadata": {},
     "output_type": "execute_result"
    }
   ],
   "source": [
    "count = count + 1\n",
    "count"
   ]
  },
  {
   "cell_type": "markdown",
   "metadata": {},
   "source": [
    "Increasing the value of a variable is called an \"increment\"; decreasing the value is called a \"decrement\".  It is such a common operation that there is a special operator for it.  "
   ]
  },
  {
   "cell_type": "code",
   "execution_count": 11,
   "metadata": {},
   "outputs": [
    {
     "data": {
      "text/plain": [
       "3"
      ]
     },
     "execution_count": 11,
     "metadata": {},
     "output_type": "execute_result"
    }
   ],
   "source": [
    "count += 1\n",
    "count"
   ]
  },
  {
   "cell_type": "markdown",
   "metadata": {},
   "source": [
    "In this example, the `+=` operator reads the value of `count`, adds `1`, and assigns the result back to `count`.\n",
    "\n",
    "Python also provides `-=` and other update operators like `*=` and `/=`."
   ]
  },
  {
   "cell_type": "markdown",
   "metadata": {},
   "source": [
    "**Exercise:** The following is a silly number trick from [Learn With Math Games](https://www.learn-with-math-games.com/math-number)\n",
    "\n",
    "\"Finding Someone’s Age\n",
    "\n",
    "* Ask the person to multiply the first number of his or her age by 5.\n",
    "\n",
    "* Tell them to add 3.\n",
    "\n",
    "* Now tell them to double this figure.\n",
    "\n",
    "* Finally, have the person add the second number of his or her age to the figure and ave them tell you their answer.\n",
    "\n",
    "* Deduct 6 and you will have their age.\"\n",
    "\n",
    "Test this algorithm using your age.  Use a single variable and update it using `+=` and other update operators."
   ]
  },
  {
   "cell_type": "code",
   "execution_count": 12,
   "metadata": {},
   "outputs": [
    {
     "data": {
      "text/plain": [
       "52"
      ]
     },
     "execution_count": 12,
     "metadata": {},
     "output_type": "execute_result"
    }
   ],
   "source": [
    "# Solution\n",
    "\n",
    "x = 5 * 5\n",
    "x += 3\n",
    "x *= 2\n",
    "x += 2\n",
    "x -= 6\n",
    "x"
   ]
  },
  {
   "cell_type": "markdown",
   "metadata": {},
   "source": [
    "## Files\n",
    "\n",
    "Now we can use a loop to read lines from a file and use a variable to count them.\n",
    "\n",
    "We can download *War and Peace* from [Project Gutenberg](https://www.gutenberg.org), which is a repository of free books.\n",
    "\n",
    "If you run the following cell, it checks to see whether you already have a file named `2600-0.txt`; if not, it uses `wget` to copy a book from Project Gutenberg to your computer.  "
   ]
  },
  {
   "cell_type": "code",
   "execution_count": 13,
   "metadata": {},
   "outputs": [],
   "source": [
    "import os\n",
    "\n",
    "if not os.path.exists('2600-0.txt'):\n",
    "    !wget https://www.gutenberg.org/files/2600/2600-0.txt"
   ]
  },
  {
   "cell_type": "markdown",
   "metadata": {},
   "source": [
    "If you are running this notebook on Colab, it will copy the file to a \"virtual file system\" on Colab, which means it will disappear if you leave the notebook idle for a while.  In that case, you can download it again later.\n",
    "\n",
    "In order to read the contents of the file, you have to \"open\" it, which you can do with the `open` function."
   ]
  },
  {
   "cell_type": "code",
   "execution_count": 14,
   "metadata": {},
   "outputs": [
    {
     "data": {
      "text/plain": [
       "<_io.TextIOWrapper name='2600-0.txt' mode='r' encoding='UTF-8'>"
      ]
     },
     "execution_count": 14,
     "metadata": {},
     "output_type": "execute_result"
    }
   ],
   "source": [
    "fp = open('2600-0.txt')\n",
    "fp"
   ]
  },
  {
   "cell_type": "markdown",
   "metadata": {},
   "source": [
    "The result is a `TextIOWrapper`, which contains the name of the file, the mode (which is `r` for \"reading\") and the encoding (which is `UTF` for \"Unicode Transformation Format\"). I assign the `TextIOWrapper` to `fp`, which stands for \"file pointer\".  \n",
    "\n"
   ]
  },
  {
   "cell_type": "markdown",
   "metadata": {},
   "source": [
    "We can use it to count the number of lines in the file:"
   ]
  },
  {
   "cell_type": "code",
   "execution_count": 15,
   "metadata": {},
   "outputs": [],
   "source": [
    "fp = open('2600-0.txt')\n",
    "count = 0\n",
    "for line in fp:\n",
    "    count += 1"
   ]
  },
  {
   "cell_type": "markdown",
   "metadata": {},
   "source": [
    "And then display the result."
   ]
  },
  {
   "cell_type": "code",
   "execution_count": 16,
   "metadata": {},
   "outputs": [
    {
     "data": {
      "text/plain": [
       "66055"
      ]
     },
     "execution_count": 16,
     "metadata": {},
     "output_type": "execute_result"
    }
   ],
   "source": [
    "count"
   ]
  },
  {
   "cell_type": "markdown",
   "metadata": {},
   "source": [
    "There are about 66,000 lines in this file.\n",
    "\n",
    "When we are done with a file, we can \"close\" it like this."
   ]
  },
  {
   "cell_type": "code",
   "execution_count": 17,
   "metadata": {},
   "outputs": [],
   "source": [
    "fp.close()"
   ]
  },
  {
   "cell_type": "markdown",
   "metadata": {},
   "source": [
    "But it's not really necessary, and I usually don't bother."
   ]
  },
  {
   "cell_type": "markdown",
   "metadata": {},
   "source": [
    "## if statements\n",
    "\n",
    "We've already see comparison operators, like `>` and `<`, which compare values and produce a Boolean result, `True` or `False`.\n",
    "\n",
    "For example, we can compare the final value of `count` to a number:"
   ]
  },
  {
   "cell_type": "code",
   "execution_count": 18,
   "metadata": {},
   "outputs": [
    {
     "data": {
      "text/plain": [
       "True"
      ]
     },
     "execution_count": 18,
     "metadata": {},
     "output_type": "execute_result"
    }
   ],
   "source": [
    "count > 60000"
   ]
  },
  {
   "cell_type": "markdown",
   "metadata": {},
   "source": [
    "We can use a comparison operator in an `if` statement to check for a condition and take action accordingly."
   ]
  },
  {
   "cell_type": "code",
   "execution_count": 19,
   "metadata": {},
   "outputs": [
    {
     "name": "stdout",
     "output_type": "stream",
     "text": [
      "Long book!\n"
     ]
    }
   ],
   "source": [
    "if count > 60000:\n",
    "    print('Long book!')"
   ]
  },
  {
   "cell_type": "markdown",
   "metadata": {},
   "source": [
    "The first line of the `if` statement specifies the condition we're checking for. Like the header of a `for` statement, the first line of an `if` statement has to end with a colon.\n",
    "\n",
    "If the condition is true, the indented statement runs; otherwise, it doesn't.\n",
    "\n",
    "In the previous example, the condition is true, so the `print` statement runs.  \n",
    "\n",
    "In the following example, the condition is false, so the `print` statement doesn't run."
   ]
  },
  {
   "cell_type": "code",
   "execution_count": 20,
   "metadata": {},
   "outputs": [],
   "source": [
    "if count < 1000:\n",
    "    print('Novella!')"
   ]
  },
  {
   "cell_type": "markdown",
   "metadata": {},
   "source": [
    "We can put a `print` statement inside a `for` loop.  In this example, we only print a line from the book when `count` is `1`."
   ]
  },
  {
   "cell_type": "code",
   "execution_count": 21,
   "metadata": {},
   "outputs": [
    {
     "name": "stdout",
     "output_type": "stream",
     "text": [
      "The Project Gutenberg EBook of War and Peace, by Leo Tolstoy\n",
      "\n"
     ]
    }
   ],
   "source": [
    "fp = open('2600-0.txt')\n",
    "count = 0\n",
    "for line in fp:\n",
    "    if count == 1:\n",
    "        print(line)\n",
    "    count += 1"
   ]
  },
  {
   "cell_type": "markdown",
   "metadata": {},
   "source": [
    "Notice the indentation in this example:\n",
    "\n",
    "* Statements inside the `for` loop are indented.\n",
    "\n",
    "* The statement inside the `if` statement is indented.\n",
    "\n",
    "* The statement `count += 1` is \"outdented\" from the previous line, so it ends the `if` statement.  But it is still inside the `for` loop.\n",
    "\n",
    "It is legal in Python to use spaces or tabs for indentation, but at this point it is conventional to use four spaces, never tabs.  That's what I'll do in my code and I strongly suggest you follow the convention."
   ]
  },
  {
   "cell_type": "markdown",
   "metadata": {},
   "source": [
    "## break statement\n",
    "\n",
    "If we display the final value of `count`, we see that the loop reads the entire file, but only prints one line:"
   ]
  },
  {
   "cell_type": "code",
   "execution_count": 22,
   "metadata": {},
   "outputs": [
    {
     "data": {
      "text/plain": [
       "66055"
      ]
     },
     "execution_count": 22,
     "metadata": {},
     "output_type": "execute_result"
    }
   ],
   "source": [
    "count"
   ]
  },
  {
   "cell_type": "markdown",
   "metadata": {},
   "source": [
    "If that feels wasteful, we can avoid it using a `break` statement, like this:"
   ]
  },
  {
   "cell_type": "code",
   "execution_count": 23,
   "metadata": {},
   "outputs": [
    {
     "name": "stdout",
     "output_type": "stream",
     "text": [
      "The Project Gutenberg EBook of War and Peace, by Leo Tolstoy\n",
      "\n"
     ]
    }
   ],
   "source": [
    "fp = open('2600-0.txt')\n",
    "count = 0\n",
    "for line in fp:\n",
    "    if count == 1:\n",
    "        print(line)\n",
    "        break\n",
    "    count += 1"
   ]
  },
  {
   "cell_type": "markdown",
   "metadata": {},
   "source": [
    "The `break` statement ends the loop immediately, skipping the rest of the file.  We can confirm that by checking the last value of `count`: "
   ]
  },
  {
   "cell_type": "code",
   "execution_count": 24,
   "metadata": {},
   "outputs": [
    {
     "data": {
      "text/plain": [
       "1"
      ]
     },
     "execution_count": 24,
     "metadata": {},
     "output_type": "execute_result"
    }
   ],
   "source": [
    "count"
   ]
  },
  {
   "cell_type": "markdown",
   "metadata": {},
   "source": [
    "**Exercise:** Write a loop that prints the first 5 lines of the file and then breaks out of the loop."
   ]
  },
  {
   "cell_type": "code",
   "execution_count": 25,
   "metadata": {},
   "outputs": [
    {
     "name": "stdout",
     "output_type": "stream",
     "text": [
      "﻿\n",
      "\n",
      "The Project Gutenberg EBook of War and Peace, by Leo Tolstoy\n",
      "\n",
      "\n",
      "\n",
      "This eBook is for the use of anyone anywhere at no cost and with almost\n",
      "\n",
      "no restrictions whatsoever. You may copy it, give it away or re-use\n",
      "\n"
     ]
    }
   ],
   "source": [
    "# Solution\n",
    "\n",
    "fp = open('2600-0.txt')\n",
    "count = 0\n",
    "for line in fp:\n",
    "    print(line)\n",
    "    count += 1\n",
    "    if count == 5:\n",
    "        break"
   ]
  },
  {
   "cell_type": "markdown",
   "metadata": {},
   "source": [
    "## Whitespace\n",
    "\n",
    "If we run the loop again and display the final value of `line`, we see that there is are two extra characters at the end:"
   ]
  },
  {
   "cell_type": "code",
   "execution_count": 26,
   "metadata": {},
   "outputs": [
    {
     "name": "stdout",
     "output_type": "stream",
     "text": [
      "The Project Gutenberg EBook of War and Peace, by Leo Tolstoy\n",
      "\n"
     ]
    }
   ],
   "source": [
    "fp = open('2600-0.txt')\n",
    "count = 0\n",
    "for line in fp:\n",
    "    if count == 1:\n",
    "        print(line)\n",
    "        break\n",
    "    count += 1"
   ]
  },
  {
   "cell_type": "code",
   "execution_count": 27,
   "metadata": {},
   "outputs": [
    {
     "data": {
      "text/plain": [
       "'The Project Gutenberg EBook of War and Peace, by Leo Tolstoy\\n'"
      ]
     },
     "execution_count": 27,
     "metadata": {},
     "output_type": "execute_result"
    }
   ],
   "source": [
    "line"
   ]
  },
  {
   "cell_type": "markdown",
   "metadata": {},
   "source": [
    "The sequence `\\n` represents a single character, called a \"newline\", that puts vertical space between lines.\n",
    "\n",
    "If we print `line`, we don't see the special sequence, but we do see extra space after the line."
   ]
  },
  {
   "cell_type": "code",
   "execution_count": 28,
   "metadata": {},
   "outputs": [
    {
     "name": "stdout",
     "output_type": "stream",
     "text": [
      "The Project Gutenberg EBook of War and Peace, by Leo Tolstoy\n",
      "\n"
     ]
    }
   ],
   "source": [
    "print(line)"
   ]
  },
  {
   "cell_type": "markdown",
   "metadata": {},
   "source": [
    "In other strings, you might see the sequence `\\t`, which represents a \"tab\" character.\n",
    "\n",
    "When you print a tab character, it adds enough space to make the next character appear in a column that is a multiple of 8."
   ]
  },
  {
   "cell_type": "code",
   "execution_count": 29,
   "metadata": {},
   "outputs": [
    {
     "name": "stdout",
     "output_type": "stream",
     "text": [
      "012345670123456701234567012345670123456701234567\n",
      "a\tbc\tdef\tghij\tklmno\tpqrstu\n"
     ]
    }
   ],
   "source": [
    "print('01234567' * 6)\n",
    "print('a\\tbc\\tdef\\tghij\\tklmno\\tpqrstu')"
   ]
  },
  {
   "cell_type": "markdown",
   "metadata": {},
   "source": [
    "In the previous cell, the first line uses a feature we have not seen before: if you multiply a string by an integer, Python repeats the string the given number of times.\n",
    "\n",
    "Newline characters, tabs, and spaces are called \"whitespace\" because when they are printed they leave white space on the page."
   ]
  },
  {
   "cell_type": "markdown",
   "metadata": {},
   "source": [
    "## Counting words\n",
    "\n",
    "So far we've managed to count the lines in a file, but each line contains several words."
   ]
  },
  {
   "cell_type": "code",
   "execution_count": 30,
   "metadata": {},
   "outputs": [
    {
     "data": {
      "text/plain": [
       "'The Project Gutenberg EBook of War and Peace, by Leo Tolstoy\\n'"
      ]
     },
     "execution_count": 30,
     "metadata": {},
     "output_type": "execute_result"
    }
   ],
   "source": [
    "line"
   ]
  },
  {
   "cell_type": "markdown",
   "metadata": {},
   "source": [
    "To split a line into words, we can use a function called `split` that returns a list of words.\n",
    "\n",
    "To be more precise, `split` doesn't actually know what a word is; it just splits the line wherever there's a space or other whitespace character."
   ]
  },
  {
   "cell_type": "code",
   "execution_count": 31,
   "metadata": {},
   "outputs": [
    {
     "data": {
      "text/plain": [
       "['The',\n",
       " 'Project',\n",
       " 'Gutenberg',\n",
       " 'EBook',\n",
       " 'of',\n",
       " 'War',\n",
       " 'and',\n",
       " 'Peace,',\n",
       " 'by',\n",
       " 'Leo',\n",
       " 'Tolstoy']"
      ]
     },
     "execution_count": 31,
     "metadata": {},
     "output_type": "execute_result"
    }
   ],
   "source": [
    "line.split()"
   ]
  },
  {
   "cell_type": "markdown",
   "metadata": {},
   "source": [
    "Notice that the syntax for `split` is different from other functions we have seen.  Normally when we call a function, we name the function and provide values in paretheses.  So you might have expected to write `split(line)`.  Sadly, that doesn't work:"
   ]
  },
  {
   "cell_type": "code",
   "execution_count": 32,
   "metadata": {},
   "outputs": [
    {
     "ename": "NameError",
     "evalue": "name 'split' is not defined",
     "output_type": "error",
     "traceback": [
      "\u001b[0;31m---------------------------------------------------------------------------\u001b[0m",
      "\u001b[0;31mNameError\u001b[0m                                 Traceback (most recent call last)",
      "\u001b[0;32m<ipython-input-32-b5ba40708be5>\u001b[0m in \u001b[0;36m<module>\u001b[0;34m\u001b[0m\n\u001b[0;32m----> 1\u001b[0;31m \u001b[0msplit\u001b[0m\u001b[0;34m(\u001b[0m\u001b[0mline\u001b[0m\u001b[0;34m)\u001b[0m\u001b[0;34m\u001b[0m\u001b[0;34m\u001b[0m\u001b[0m\n\u001b[0m",
      "\u001b[0;31mNameError\u001b[0m: name 'split' is not defined"
     ]
    }
   ],
   "source": [
    "split(line)"
   ]
  },
  {
   "cell_type": "markdown",
   "metadata": {},
   "source": [
    "The problem is that the `split` function belongs to the string `line`; in a sense, the function is attached to the string, so we can only refer to it using the string and the dot operator (the period between `line` and `split`.\n",
    "\n",
    "For historical reasons I won't try to explain, functions like this are called \"methods\".\n",
    "\n",
    "Anyway, now that we can split a line into a list of words, we can use `len` to get the number of words in each list, and increment `count` accordingly."
   ]
  },
  {
   "cell_type": "code",
   "execution_count": 33,
   "metadata": {},
   "outputs": [],
   "source": [
    "fp = open('data/2600-0.txt')\n",
    "count = 0\n",
    "for line in fp:\n",
    "    count += len(line.split())"
   ]
  },
  {
   "cell_type": "code",
   "execution_count": 34,
   "metadata": {},
   "outputs": [
    {
     "data": {
      "text/plain": [
       "566311"
      ]
     },
     "execution_count": 34,
     "metadata": {},
     "output_type": "execute_result"
    }
   ],
   "source": [
    "count"
   ]
  },
  {
   "cell_type": "markdown",
   "metadata": {},
   "source": [
    "By this count, there are more than half a million words in *War and Peace*.\n",
    "\n",
    "Actually, there aren't quite that many, because the file we got from Project Gutenberg has some introductory text and a table of contents before the text.\n",
    "\n",
    "To skip this \"frontmatter\", we can use one loop to read lines until we get to `CHAPTER I`, and then a second loop to count the words in the remaining lines:"
   ]
  },
  {
   "cell_type": "code",
   "execution_count": 35,
   "metadata": {},
   "outputs": [],
   "source": [
    "fp = open('data/2600-0.txt')\n",
    "for line in fp:\n",
    "    if line == 'CHAPTER I\\n':\n",
    "        break\n",
    "\n",
    "count = 0\n",
    "for line in fp:\n",
    "    count += len(line.split())"
   ]
  },
  {
   "cell_type": "code",
   "execution_count": 36,
   "metadata": {},
   "outputs": [
    {
     "data": {
      "text/plain": [
       "565404"
      ]
     },
     "execution_count": 36,
     "metadata": {},
     "output_type": "execute_result"
    }
   ],
   "source": [
    "count"
   ]
  },
  {
   "cell_type": "markdown",
   "metadata": {},
   "source": [
    "There are a few things to notice about this program:\n",
    "\n",
    "* When we compare two values to see if they are equal, we use the `==` operator, not to be confused with `=`, which is the assignment operator.\n",
    "\n",
    "* The string we compare `line` to has a newline at the end.  If we leave that out, it doesn't work.\n",
    "\n",
    "* The file pointer, `fp`, keeps track of where it is in the file, so the second loop picks up where the first loop leave off."
   ]
  },
  {
   "cell_type": "markdown",
   "metadata": {},
   "source": [
    "**Exercise:** \n",
    "\n",
    "1. In the previous program, replace `==` with `=` and see what happens.  This is a common error, so it is good to see what the error message looks like.  \n",
    "\n",
    "2. Correct the previous error, then remove the newline character after `CHAPTER I`, and see what happens.\n",
    "\n",
    "The first error is a \"syntax error\", which means that the program violates the rules of Python.  If your program has a syntax error, the Python interpreter prints an error message, and the program never runs.\n",
    "\n",
    "The second error is a \"logic error\", which means that there is something wrong with the logic of the program.  The syntax is legal, and the program runs, but it doesn't do what we wanted.\n",
    "\n",
    "Logic errors can be hard to find because we don't get any error messages.  Usually the best option is to simplify the program until it does what you expect, and then gradually add more code, testing as you go."
   ]
  },
  {
   "cell_type": "code",
   "execution_count": null,
   "metadata": {},
   "outputs": [],
   "source": []
  }
 ],
 "metadata": {
  "kernelspec": {
   "display_name": "Python 3",
   "language": "python",
   "name": "python3"
  },
  "language_info": {
   "codemirror_mode": {
    "name": "ipython",
    "version": 3
   },
   "file_extension": ".py",
   "mimetype": "text/x-python",
   "name": "python",
   "nbconvert_exporter": "python",
   "pygments_lexer": "ipython3",
   "version": "3.7.4"
  }
 },
 "nbformat": 4,
 "nbformat_minor": 2
}
